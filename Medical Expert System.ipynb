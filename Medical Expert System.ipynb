{
 "cells": [
  {
   "cell_type": "code",
   "execution_count": 6,
   "id": "54c7a9c7",
   "metadata": {
    "scrolled": true
   },
   "outputs": [
    {
     "name": "stdout",
     "output_type": "stream",
     "text": [
      "************* Medical Expert System ****************\n",
      "Please enter your symptoms separated by commas:\n",
      "You: runny nose, cough, fever\n",
      "Expert System: \n",
      "Possible diseases:\n",
      "Common Cold\n",
      "Remedies:\n",
      "Rest\n",
      "Hydration\n",
      "Over-the-counter medications for symptoms\n",
      "\n",
      "\n"
     ]
    }
   ],
   "source": [
    "diseases = {\n",
    "    'Common Cold': ['sore throat', 'runny nose', 'cough', 'fever'],\n",
    "    'Flu': ['fever', 'body aches', 'headache', 'cough'],\n",
    "    'Stomach Flu': ['diarrhea', 'vomiting', 'abdominal cramps', 'fever'],\n",
    "    'Migraine': ['headache', 'nausea', 'sensitivity to light and sound'],\n",
    "    'Pneumonia': ['cough', 'fever', 'difficulty breathing', 'chest pain'],\n",
    "    'Hypertension': ['high blood pressure', 'headache', 'dizziness', 'chest pain'],\n",
    "    'Asthma': ['wheezing', 'shortness of breath', 'coughing', 'chest tightness'],\n",
    "    'Diabetes': ['frequent urination', 'increased thirst', 'blurred vision', 'fatigue'],\n",
    "   \n",
    "}\n",
    "\n",
    "remedies = {\n",
    "    'Common Cold': ['Rest', 'Hydration', 'Over-the-counter medications for symptoms'],\n",
    "    'Flu': ['Rest', 'Hydration', 'Antiviral medications'],\n",
    "    'Stomach Flu': ['Rest', 'Hydration', 'Oral rehydration solutions', 'Antidiarrheal medications'],\n",
    "    'Migraine': ['Rest in dark room', 'Pain relievers', 'Triptans'],\n",
    "    'Pneumonia': ['Antibiotics', 'Rest', 'Hydration', 'Pain relievers'],\n",
    "    'Hypertension': ['Lifestyle changes', 'Medications', 'Regular blood pressure monitoring'],\n",
    "    'Asthma': ['Inhaled corticosteroids', 'Bronchodilators', 'Lifestyle changes'],\n",
    "    'Diabetes': ['Blood sugar monitoring', 'Insulin therapy', 'Lifestyle changes'],\n",
    "}\n",
    "\n",
    "print(\"************* Medical Expert System ****************\")\n",
    "print(\"Please enter your symptoms separated by commas:\")\n",
    "user_symptoms = input(\"You: \").lower().split(',')\n",
    "\n",
    "possible_diseases = []\n",
    "for disease, symptoms in diseases.items():\n",
    "    if any(symptom in user_symptoms for symptom in symptoms):\n",
    "        possible_diseases.append(disease)\n",
    "\n",
    "if len(possible_diseases) == 0:\n",
    "    print(\"Your symptoms are unclear. Please consult a medical professional.\")\n",
    "else:\n",
    "    print(\"Expert System: \")\n",
    "    print(\"Possible diseases:\")\n",
    "    for disease in possible_diseases:\n",
    "        print(disease)\n",
    "        print(\"Remedies:\")\n",
    "        for remedy in remedies[disease]:\n",
    "            print(remedy)\n",
    "        print('\\n')\n"
   ]
  },
  {
   "cell_type": "code",
   "execution_count": null,
   "id": "b729ce0c",
   "metadata": {},
   "outputs": [],
   "source": []
  },
  {
   "cell_type": "code",
   "execution_count": null,
   "id": "a2fe0cf2",
   "metadata": {},
   "outputs": [],
   "source": []
  }
 ],
 "metadata": {
  "kernelspec": {
   "display_name": "Python 3 (ipykernel)",
   "language": "python",
   "name": "python3"
  },
  "language_info": {
   "codemirror_mode": {
    "name": "ipython",
    "version": 3
   },
   "file_extension": ".py",
   "mimetype": "text/x-python",
   "name": "python",
   "nbconvert_exporter": "python",
   "pygments_lexer": "ipython3",
   "version": "3.9.13"
  }
 },
 "nbformat": 4,
 "nbformat_minor": 5
}
